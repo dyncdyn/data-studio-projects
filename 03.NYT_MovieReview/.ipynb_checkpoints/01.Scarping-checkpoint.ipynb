{
 "cells": [
  {
   "cell_type": "code",
   "execution_count": 2,
   "metadata": {},
   "outputs": [],
   "source": [
    "import pandas as pd\n",
    "import numpy as np\n",
    "import requests\n",
    "import seaborn as sns\n",
    "from bs4 import BeautifulSoup\n",
    "%matplotlib inline"
   ]
  },
  {
   "cell_type": "code",
   "execution_count": 3,
   "metadata": {},
   "outputs": [],
   "source": [
    "import os\n",
    "from dotenv import load_dotenv"
   ]
  },
  {
   "cell_type": "code",
   "execution_count": 4,
   "metadata": {},
   "outputs": [],
   "source": [
    "api_key = os.getenv('nyt_api')"
   ]
  },
  {
   "cell_type": "code",
   "execution_count": 5,
   "metadata": {},
   "outputs": [],
   "source": [
    "response = requests.get('https://api.nytimes.com/svc/movies/v2/critics/all.json?&api-key=AdAosfbrAgDSknKED1mN0EaAJPAbN5kB')\n",
    "data  = response.json()"
   ]
  },
  {
   "cell_type": "code",
   "execution_count": 6,
   "metadata": {
    "scrolled": true
   },
   "outputs": [
    {
     "data": {
      "text/plain": [
       "['A. O. Scott',\n",
       " 'Manohla Dargis',\n",
       " 'Stephen Holden',\n",
       " 'Renata Adler',\n",
       " 'Mordaunt Hall',\n",
       " 'Thomas M. Pryor',\n",
       " 'Eugene Archer',\n",
       " 'Donal J. Henahan',\n",
       " 'Nora Sayre',\n",
       " 'D. J. R. Bruckner',\n",
       " 'Caryn James',\n",
       " 'Harold C. Schonberg',\n",
       " 'Tom Buckley',\n",
       " 'Stanley Kauffman',\n",
       " 'Andre Sennwald',\n",
       " 'Vincent Canby',\n",
       " 'Dave Kehr',\n",
       " 'Dana Stevens',\n",
       " 'B. R. Crisler',\n",
       " 'Hilton Kramer',\n",
       " 'Michael Stern',\n",
       " 'Bosley Crowther',\n",
       " 'Ned Martel',\n",
       " 'Theodore Strauss',\n",
       " 'Richard Eder',\n",
       " 'Janet Maslin',\n",
       " 'Howard Thompson',\n",
       " 'Anita Gates',\n",
       " 'John T. McManus',\n",
       " 'Lawrence Van Gelder',\n",
       " 'Walter Goodman',\n",
       " 'Elvis Mitchell',\n",
       " 'A. H. Weiler',\n",
       " 'Roger Greenspun',\n",
       " 'Frank S. Nugent',\n",
       " 'Matt Zoller Seitz',\n",
       " 'Neil Genzlinger',\n",
       " 'Andy Webster',\n",
       " 'Jeannette Catsoulis',\n",
       " 'Nathan Lee',\n",
       " 'Kevin Cahillane',\n",
       " 'Laura Kern',\n",
       " 'Anna Kisselgoff',\n",
       " 'C. Hooper Trask',\n",
       " 'Ernest Marshall',\n",
       " 'Herbert L. Matthews',\n",
       " 'Herbert Mitgang',\n",
       " 'Jennifer Dunning',\n",
       " 'John Corry',\n",
       " 'Jon Pareles',\n",
       " 'Nina Darnton',\n",
       " 'Patricia S. McCormick',\n",
       " 'Peter M. Nichols',\n",
       " 'Richard Bernstein',\n",
       " 'Richard F. Shepard',\n",
       " 'Richard W. Nason',\n",
       " 'Robert Alden',\n",
       " 'Charles Morgan',\n",
       " 'Dan Sullivan',\n",
       " 'Harry Gilroy',\n",
       " 'Julie Salamon',\n",
       " 'Morris Gilbert',\n",
       " 'W. L. Middleton',\n",
       " 'Harry T. Smith',\n",
       " 'David DeWitt',\n",
       " 'Ben Brantley',\n",
       " 'Carina Chocano',\n",
       " 'Daniel M. Gold',\n",
       " 'Felicity Barringer',\n",
       " 'Holcomb B. Noble',\n",
       " 'Jack Gould',\n",
       " 'Mike Hale',\n",
       " 'Paul Brunick',\n",
       " 'Peter Kihss',\n",
       " 'Rachel Saltz',\n",
       " \"Suzanne O'Connor\",\n",
       " 'Victor Navasky',\n",
       " 'Wayne King',\n",
       " 'Nicolas Rapold',\n",
       " 'Miriam Bale',\n",
       " 'Nicole Herrington',\n",
       " 'Ben Kenigsberg']"
      ]
     },
     "execution_count": 6,
     "metadata": {},
     "output_type": "execute_result"
    }
   ],
   "source": [
    "names = []\n",
    "N = data['results']\n",
    "for n in N:\n",
    "    name = n['display_name']\n",
    "    names.append(name)\n",
    "names"
   ]
  },
  {
   "cell_type": "code",
   "execution_count": 38,
   "metadata": {
    "scrolled": true
   },
   "outputs": [],
   "source": [
    "df = pd.DataFrame(names)\n",
    "df.columns = ['critic']\n",
    "df.to_csv('critic.csv')"
   ]
  },
  {
   "cell_type": "code",
   "execution_count": 8,
   "metadata": {},
   "outputs": [],
   "source": [
    "df = pd.read_csv('critic_fixed.csv')"
   ]
  },
  {
   "cell_type": "code",
   "execution_count": null,
   "metadata": {},
   "outputs": [],
   "source": [
    "df"
   ]
  }
 ],
 "metadata": {
  "kernelspec": {
   "display_name": "Python 3",
   "language": "python",
   "name": "python3"
  },
  "language_info": {
   "codemirror_mode": {
    "name": "ipython",
    "version": 3
   },
   "file_extension": ".py",
   "mimetype": "text/x-python",
   "name": "python",
   "nbconvert_exporter": "python",
   "pygments_lexer": "ipython3",
   "version": "3.7.3"
  }
 },
 "nbformat": 4,
 "nbformat_minor": 2
}
